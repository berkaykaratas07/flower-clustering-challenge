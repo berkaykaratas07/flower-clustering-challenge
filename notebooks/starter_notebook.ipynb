{
 "cells": [
  {
   "cell_type": "code",
   "outputs": [],
   "source": [
    "# Import necessary libraries\n",
    "import numpy as np\n",
    "from sklearn.decomposition import PCA\n",
    "from sklearn.mixture import GaussianMixture\n",
    "from sklearn.preprocessing import StandardScaler\n",
    "from sklearn.metrics import silhouette_score"
   ],
   "metadata": {
    "collapsed": false
   },
   "id": "e7766db61af473f2"
  },
  {
   "cell_type": "code",
   "outputs": [],
   "source": [
    "# Step 1: Load the pre-extracted features from .npy file\n",
    "# Replace 'model/xception_flower.npy' with the correct path if necessary\n",
    "features = np.load('model/xception_flower.npy')\n",
    "print(\"Features loaded successfully!\")"
   ],
   "metadata": {
    "collapsed": false
   },
   "id": "eeeb7cf8dc5201a8"
  },
  {
   "cell_type": "code",
   "outputs": [],
   "source": [
    "# Step 2: Standardize features for better clustering performance\n",
    "scaler = StandardScaler()\n",
    "scaled_features = scaler.fit_transform(features)\n",
    "print(\"Features scaled successfully!\")"
   ],
   "metadata": {
    "collapsed": false
   },
   "id": "3458cac6cb7488be"
  },
  {
   "cell_type": "code",
   "outputs": [],
   "source": [
    "# Step 3: Reduce dimensions with PCA; recommended to use 9 components\n",
    "pca = PCA(n_components=9)\n",
    "principal_components = pca.fit_transform(scaled_features)\n",
    "print(f\"Explained variance ratios: {pca.explained_variance_ratio_}\")"
   ],
   "metadata": {
    "collapsed": false
   },
   "id": "451cd6fa232762db"
  },
  {
   "cell_type": "code",
   "outputs": [],
   "source": [
    "# Step 4: Apply Gaussian Mixture Model with 5 clusters (adjust if needed)\n",
    "n_clusters = 5\n",
    "gmm = GaussianMixture(n_components=n_clusters, covariance_type='full', random_state=0)\n",
    "gmm_labels = gmm.fit_predict(principal_components)\n",
    "print(\"GMM clustering completed!\")"
   ],
   "metadata": {
    "collapsed": false
   },
   "id": "eaf9b64d47c4f72d"
  },
  {
   "cell_type": "code",
   "outputs": [],
   "source": [
    "# Step 5: Evaluate clustering performance with Silhouette Score\n",
    "silhouette_avg = silhouette_score(principal_components, gmm_labels)\n",
    "print(f\"Silhouette Score: {silhouette_avg:.4f}\")"
   ],
   "metadata": {
    "collapsed": false
   },
   "id": "3fa20d9eedfa277f"
  }
 ],
 "metadata": {
  "kernelspec": {
   "display_name": "Python 3",
   "language": "python",
   "name": "python3"
  },
  "language_info": {
   "codemirror_mode": {
    "name": "ipython",
    "version": 2
   },
   "file_extension": ".py",
   "mimetype": "text/x-python",
   "name": "python",
   "nbconvert_exporter": "python",
   "pygments_lexer": "ipython2",
   "version": "2.7.6"
  }
 },
 "nbformat": 4,
 "nbformat_minor": 5
}
