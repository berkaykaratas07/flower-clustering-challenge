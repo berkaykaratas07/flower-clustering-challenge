{
 "cells": [
  {
   "cell_type": "code",
   "execution_count": 1,
   "id": "initial_id",
   "metadata": {
    "collapsed": true,
    "ExecuteTime": {
     "end_time": "2024-11-09T15:00:56.687728Z",
     "start_time": "2024-11-09T15:00:55.209468Z"
    }
   },
   "outputs": [],
   "source": [
    "# Step 1: Import necessary libraries\n",
    "import numpy as np\n",
    "import os\n",
    "from sklearn.decomposition import PCA\n",
    "from sklearn.mixture import GaussianMixture\n",
    "from sklearn.preprocessing import StandardScaler\n",
    "from sklearn.metrics import silhouette_score\n",
    "import matplotlib.pyplot as plt\n",
    "from shutil import copy\n",
    "from concurrent.futures import ThreadPoolExecutor\n",
    "from collections import Counter\n",
    "import pandas as pd"
   ]
  },
  {
   "cell_type": "code",
   "outputs": [],
   "source": [
    "# Step 2: Create labels from directory structure\n",
    "# This function assigns a unique label to each folder and lists all image files within.\n",
    "def create_labels_from_paths(base_dir):\n",
    "    labels = []\n",
    "    image_files = []\n",
    "\n",
    "    for idx, cluster_folder in enumerate(sorted(os.listdir(base_dir))):\n",
    "        folder_path = os.path.join(base_dir, cluster_folder)\n",
    "        if os.path.isdir(folder_path):\n",
    "            for image_file in os.listdir(folder_path):\n",
    "                image_files.append(os.path.join(folder_path, image_file))\n",
    "                labels.append(idx)  # Assigns a label to each folder\n",
    "\n",
    "    return np.array(labels), image_files"
   ],
   "metadata": {
    "collapsed": false,
    "ExecuteTime": {
     "end_time": "2024-11-09T15:00:56.691317Z",
     "start_time": "2024-11-09T15:00:56.688728Z"
    }
   },
   "id": "4b1c297a42785704",
   "execution_count": 2
  },
  {
   "cell_type": "code",
   "outputs": [],
   "source": [
    "# Step 3: Load feature data\n",
    "# Load pre-extracted features from a NumPy file.\n",
    "features = np.load('C:\\\\Users\\\\Berkay\\\\PycharmProjects\\\\DDYM\\\\model\\\\xception_flower.npy')"
   ],
   "metadata": {
    "collapsed": false,
    "ExecuteTime": {
     "end_time": "2024-11-09T15:00:56.710910Z",
     "start_time": "2024-11-09T15:00:56.691317Z"
    }
   },
   "id": "78077f2b311338d1",
   "execution_count": 3
  },
  {
   "cell_type": "code",
   "outputs": [],
   "source": [
    "# Step 4: Scale the dataset\n",
    "# Standardize features to have zero mean and unit variance.\n",
    "scaler = StandardScaler()\n",
    "scaled_features = scaler.fit_transform(features)"
   ],
   "metadata": {
    "collapsed": false,
    "ExecuteTime": {
     "end_time": "2024-11-09T15:00:56.777571Z",
     "start_time": "2024-11-09T15:00:56.710910Z"
    }
   },
   "id": "2f706c935dc51513",
   "execution_count": 4
  },
  {
   "cell_type": "code",
   "outputs": [
    {
     "name": "stdout",
     "output_type": "stream",
     "text": [
      "Explained variance ratios: [0.07718904 0.0529648  0.03668069 0.02669235 0.02371409 0.02206665\n",
      " 0.01783295 0.01737857 0.01357454]\n"
     ]
    }
   ],
   "source": [
    "# Step 5: Apply PCA\n",
    "# Reduce dimensions to 9 principal components.\n",
    "pca = PCA(n_components=9)\n",
    "principal_components = pca.fit_transform(scaled_features)\n",
    "\n",
    "# Print explained variance ratio for each principal component\n",
    "print(f\"Explained variance ratios: {pca.explained_variance_ratio_}\")"
   ],
   "metadata": {
    "collapsed": false,
    "ExecuteTime": {
     "end_time": "2024-11-09T15:00:56.845124Z",
     "start_time": "2024-11-09T15:00:56.778574Z"
    }
   },
   "id": "564580f209036d88",
   "execution_count": 5
  },
  {
   "cell_type": "code",
   "outputs": [],
   "source": [
    "# Step 6: Cluster using Gaussian Mixture Model (GMM)\n",
    "# Fit GMM with 5 clusters on the PCA-reduced data.\n",
    "n_clusters = 5\n",
    "gmm = GaussianMixture(n_components=n_clusters, covariance_type='full', random_state=0)\n",
    "gmm_labels = gmm.fit_predict(principal_components)"
   ],
   "metadata": {
    "collapsed": false,
    "ExecuteTime": {
     "end_time": "2024-11-09T15:00:57.067187Z",
     "start_time": "2024-11-09T15:00:56.845124Z"
    }
   },
   "id": "71a40e8ba537ad18",
   "execution_count": 6
  },
  {
   "cell_type": "code",
   "outputs": [
    {
     "name": "stdout",
     "output_type": "stream",
     "text": [
      "Silhouette Score: 0.2031\n"
     ]
    }
   ],
   "source": [
    "# Step 7: Calculate silhouette score\n",
    "# Evaluate clustering performance with silhouette score.\n",
    "silhouette_avg = silhouette_score(principal_components, gmm_labels)\n",
    "print(f\"Silhouette Score: {silhouette_avg:.4f}\")"
   ],
   "metadata": {
    "collapsed": false,
    "ExecuteTime": {
     "end_time": "2024-11-09T15:00:57.187500Z",
     "start_time": "2024-11-09T15:00:57.067187Z"
    }
   },
   "id": "85952f56dc8ab66e",
   "execution_count": 7
  },
  {
   "cell_type": "code",
   "outputs": [
    {
     "name": "stdout",
     "output_type": "stream",
     "text": [
      "Clustered images saved to C:\\Users\\Berkay\\Desktop\\flower_ensemble_clustered\n"
     ]
    }
   ],
   "source": [
    "# Step 8: Save clusters to separate folders\n",
    "# This function copies images into new folders based on their cluster labels.\n",
    "def save_clusters_to_folders(image_files, labels, output_dir, max_workers=8):\n",
    "    if not os.path.exists(output_dir):\n",
    "        os.makedirs(output_dir)\n",
    "\n",
    "    def copy_file(idx, label):\n",
    "        cluster_folder = os.path.join(output_dir, f\"cluster_{label}\")\n",
    "        if not os.path.exists(cluster_folder):\n",
    "            os.makedirs(cluster_folder)\n",
    "        copy(image_files[idx], cluster_folder)\n",
    "\n",
    "    with ThreadPoolExecutor(max_workers=max_workers) as executor:\n",
    "        executor.map(lambda x: copy_file(x[0], x[1]), enumerate(labels))\n",
    "\n",
    "# Define paths and save clustered images\n",
    "base_dir = 'C:\\\\Users\\\\Berkay\\\\Desktop\\\\flower\\\\flower_photos'\n",
    "output_dir = 'C:\\\\Users\\\\Berkay\\\\Desktop\\\\flower_ensemble_clustered'\n",
    "_, image_files = create_labels_from_paths(base_dir)\n",
    "save_clusters_to_folders(image_files, gmm_labels, output_dir)\n",
    "print(f\"Clustered images saved to {output_dir}\")"
   ],
   "metadata": {
    "collapsed": false,
    "ExecuteTime": {
     "end_time": "2024-11-09T15:00:57.932439Z",
     "start_time": "2024-11-09T15:00:57.187500Z"
    }
   },
   "id": "ed2915d835e41f49",
   "execution_count": 8
  },
  {
   "cell_type": "code",
   "outputs": [],
   "source": [
    "# Step 9: Extract original class labels from folders\n",
    "# This function extracts true labels based on original folder structure.\n",
    "def extract_class_labels(folder_path):\n",
    "    class_labels = []\n",
    "    class_names = sorted(os.listdir(folder_path))\n",
    "    class_to_label = {class_name: i for i, class_name in enumerate(class_names)}\n",
    "    for class_name in class_names:\n",
    "        class_folder = os.path.join(folder_path, class_name)\n",
    "        for image_file in os.listdir(class_folder):\n",
    "            class_labels.append(class_to_label[class_name])\n",
    "    return np.array(class_labels), class_names"
   ],
   "metadata": {
    "collapsed": false,
    "ExecuteTime": {
     "end_time": "2024-11-09T15:00:57.935594Z",
     "start_time": "2024-11-09T15:00:57.932439Z"
    }
   },
   "id": "25b0fd66065908a",
   "execution_count": 9
  },
  {
   "cell_type": "code",
   "outputs": [],
   "source": [
    "# Step 10: Compare label lengths\n",
    "# Check if true labels and clustered labels have the same length.\n",
    "def check_label_lengths(true_labels, clustered_labels):\n",
    "    if len(true_labels) != len(clustered_labels):\n",
    "        print(f\"Error: True labels ({len(true_labels)}) and Clustered labels ({len(clustered_labels)}) are not the same length!\")\n",
    "    else:\n",
    "        print(\"True labels and Clustered labels have the same length.\")\n",
    "    return len(true_labels) == len(clustered_labels)"
   ],
   "metadata": {
    "collapsed": false,
    "ExecuteTime": {
     "end_time": "2024-11-09T15:00:57.938312Z",
     "start_time": "2024-11-09T15:00:57.935594Z"
    }
   },
   "id": "b52f21c4b2a1a578",
   "execution_count": 10
  },
  {
   "cell_type": "code",
   "outputs": [],
   "source": [
    "# Step 11: Display dominant flower types in each cluster\n",
    "# Calculate the distribution of original flower types within each cluster.\n",
    "def display_flower_types_in_clusters(true_labels, cluster_labels, class_names):\n",
    "    df = pd.DataFrame({'TrueLabel': true_labels, 'Cluster': cluster_labels})\n",
    "    for cluster in df['Cluster'].unique():\n",
    "        cluster_df = df[df['Cluster'] == cluster]\n",
    "        total_images = len(cluster_df)\n",
    "        flower_counts = Counter(cluster_df['TrueLabel'])\n",
    "        flower_percentages = {class_names[key]: (value / total_images) * 100 for key, value in flower_counts.items()}\n",
    "        \n",
    "        dominant_flowers = {flower: percentage for flower, percentage in flower_percentages.items() if percentage > 50}\n",
    "        print(f\"Cluster {cluster} (Size: {total_images}):\")\n",
    "        if dominant_flowers:\n",
    "            print(\" Dominant flower types (>50%):\")\n",
    "            for flower, percentage in dominant_flowers.items():\n",
    "                print(f\"  {flower}: {percentage:.2f}%\")\n",
    "        else:\n",
    "            print(\" No dominant flower type over 50%.\")\n",
    "        print()"
   ],
   "metadata": {
    "collapsed": false,
    "ExecuteTime": {
     "end_time": "2024-11-09T15:00:57.941414Z",
     "start_time": "2024-11-09T15:00:57.938312Z"
    }
   },
   "id": "5b97aeba1c2fdc37",
   "execution_count": 11
  },
  {
   "cell_type": "code",
   "outputs": [
    {
     "name": "stdout",
     "output_type": "stream",
     "text": [
      "True labels and Clustered labels have the same length.\n",
      "Cluster 1 (Size: 538):\n",
      " Dominant flower types (>50%):\n",
      "  daisy: 82.53%\n",
      "\n",
      "Cluster 4 (Size: 1007):\n",
      " Dominant flower types (>50%):\n",
      "  sunflowers: 50.84%\n",
      "\n",
      "Cluster 0 (Size: 657):\n",
      " Dominant flower types (>50%):\n",
      "  roses: 70.62%\n",
      "\n",
      "Cluster 3 (Size: 832):\n",
      " Dominant flower types (>50%):\n",
      "  tulips: 72.48%\n",
      "\n",
      "Cluster 2 (Size: 636):\n",
      " Dominant flower types (>50%):\n",
      "  dandelion: 98.43%\n"
     ]
    }
   ],
   "source": [
    "# Step 12: Run comparison and display results\n",
    "# Extract true labels from original dataset and display cluster composition.\n",
    "folder_path = r\"C:\\Users\\Berkay\\Desktop\\flower\\flower_photos\"\n",
    "true_labels, class_names = extract_class_labels(folder_path)\n",
    "\n",
    "if check_label_lengths(true_labels, gmm_labels):\n",
    "    display_flower_types_in_clusters(true_labels, gmm_labels, class_names)\n",
    "else:\n",
    "    print(\"Cannot display clusters because label lengths do not match.\")"
   ],
   "metadata": {
    "collapsed": false,
    "ExecuteTime": {
     "end_time": "2024-11-09T15:00:57.949142Z",
     "start_time": "2024-11-09T15:00:57.941414Z"
    }
   },
   "id": "c3ddb0d16ffde465",
   "execution_count": 12
  }
 ],
 "metadata": {
  "kernelspec": {
   "display_name": "Python 3",
   "language": "python",
   "name": "python3"
  },
  "language_info": {
   "codemirror_mode": {
    "name": "ipython",
    "version": 2
   },
   "file_extension": ".py",
   "mimetype": "text/x-python",
   "name": "python",
   "nbconvert_exporter": "python",
   "pygments_lexer": "ipython2",
   "version": "2.7.6"
  }
 },
 "nbformat": 4,
 "nbformat_minor": 5
}
